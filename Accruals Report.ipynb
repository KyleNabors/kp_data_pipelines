{
 "cells": [
  {
   "cell_type": "code",
   "execution_count": 65,
   "id": "080ddf1c",
   "metadata": {},
   "outputs": [],
   "source": [
    "import os\n",
    "import pandas as pd\n",
    "from pandas import json_normalize\n",
    "from datetime import datetime"
   ]
  },
  {
   "cell_type": "code",
   "execution_count": 66,
   "id": "a916ecfe",
   "metadata": {},
   "outputs": [
    {
     "name": "stdout",
     "output_type": "stream",
     "text": [
      "august\n",
      "August\n"
     ]
    }
   ],
   "source": [
    "today = datetime.today()\n",
    "first_of_this_month = today.replace(day=1)\n",
    "first_of_last_month = (first_of_this_month - pd.DateOffset(months=1)).replace(day=1)\n",
    "\n",
    "month = first_of_last_month.strftime(\"%B\").lower()\n",
    "print(month)\n",
    "cap_month = month.capitalize()\n",
    "print(cap_month)"
   ]
  },
  {
   "cell_type": "code",
   "execution_count": 67,
   "id": "05411e30",
   "metadata": {},
   "outputs": [
    {
     "name": "stdout",
     "output_type": "stream",
     "text": [
      "Index(['Unnamed: 0', 'Transaction Created Date', 'Accountable Completed Date',\n",
      "       'Aging Date', 'Accountable ID', 'Payment Date',\n",
      "       'Transaction Line Item Type', 'Transaction Line Item',\n",
      "       'Protocol Version', 'Holdback Percentage', 'Holdback Amount',\n",
      "       'Invoiceable (Yes / No)', 'Payment ID', 'Provider', 'Vendor',\n",
      "       'Vendor Code', 'Account Code', 'Sub Account Code', 'Department Code',\n",
      "       'Study Account Code', 'Service Line Code', 'Grant Code',\n",
      "       'Site Account Code', 'Network Revenue Expense Code', 'Activity Code',\n",
      "       'Transaction Amount', 'Payment Amount', 'Patient Name', 'Patient MRN',\n",
      "       'Routine Care (Yes / No)', 'Transaction Type', 'Ledger Entry Type',\n",
      "       'AR/AP Status', 'Site Name', 'Site Study Code', 'Subject ID',\n",
      "       'Sponsor Study ID', 'CRO Name', 'Visit Name',\n",
      "       'Participant Protocol Arm', 'Visit Location', 'Event Name',\n",
      "       'Sponsor Name', 'Principal Investigators', 'Lead Coordinators'],\n",
      "      dtype='object')\n"
     ]
    }
   ],
   "source": [
    "transactions = pd.read_csv(\n",
    "    r\"C:\\Users\\O304312\\Downloads\\Transaction.csv\", low_memory=False\n",
    ")\n",
    "print(transactions.columns)"
   ]
  },
  {
   "cell_type": "code",
   "execution_count": 68,
   "id": "aa22578a",
   "metadata": {},
   "outputs": [
    {
     "name": "stderr",
     "output_type": "stream",
     "text": [
      "<>:4: SyntaxWarning: invalid escape sequence '\\V'\n",
      "<>:4: SyntaxWarning: invalid escape sequence '\\V'\n",
      "C:\\Users\\O304312\\AppData\\Local\\Temp\\ipykernel_5844\\1808961006.py:4: SyntaxWarning: invalid escape sequence '\\V'\n",
      "  # pr_ndjson = r'J:\\VIEWPOINT\\ParticipantVisitActivity_Response\\ndjson'\n"
     ]
    },
    {
     "data": {
      "text/plain": [
       "\"\\n# pr_join = pd.DataFrame()\\n\\n# pr_ndjson = r'J:\\\\VIEWPOINT\\\\ParticipantVisitActivity_Response\\ndjson'\\n\\n# progress_count  = 0\\n# files_count = len([file for file in os.listdir(pr_ndjson) if file.endswith('.ndjson')])\\n# print(f'Total files to process: {files_count}')\\n# for file in os.listdir(pr_ndjson):\\n#     if file.endswith('.ndjson'):\\n#         df = pd.read_json(os.path.join(pr_ndjson, file), lines=True)\\n#         # Flatten nested columns\\n#         df_flat = json_normalize(df.to_dict(orient='records'))\\n#         pr_join = pd.concat([pr_join, df_flat], ignore_index=True)\\n#         # Only use hashable columns for drop_duplicates\\n#         hashable_cols = [col for col in pr_join.columns if not pr_join[col].apply(lambda x: isinstance(x, list) or isinstance(x, dict)).any()]\\n#         if hashable_cols:\\n#             pr_join = pr_join.drop_duplicates(subset=hashable_cols)\\n#         progress_count += 1\\n#         print(f'Processed {progress_count} of {files_count} files', end='\\r')\\n\""
      ]
     },
     "execution_count": 68,
     "metadata": {},
     "output_type": "execute_result"
    }
   ],
   "source": [
    "\"\"\"\n",
    "# pr_join = pd.DataFrame()\n",
    "\n",
    "# pr_ndjson = r'J:\\VIEWPOINT\\ParticipantVisitActivity_Response\\ndjson'\n",
    "\n",
    "# progress_count  = 0\n",
    "# files_count = len([file for file in os.listdir(pr_ndjson) if file.endswith('.ndjson')])\n",
    "# print(f'Total files to process: {files_count}')\n",
    "# for file in os.listdir(pr_ndjson):\n",
    "#     if file.endswith('.ndjson'):\n",
    "#         df = pd.read_json(os.path.join(pr_ndjson, file), lines=True)\n",
    "#         # Flatten nested columns\n",
    "#         df_flat = json_normalize(df.to_dict(orient='records'))\n",
    "#         pr_join = pd.concat([pr_join, df_flat], ignore_index=True)\n",
    "#         # Only use hashable columns for drop_duplicates\n",
    "#         hashable_cols = [col for col in pr_join.columns if not pr_join[col].apply(lambda x: isinstance(x, list) or isinstance(x, dict)).any()]\n",
    "#         if hashable_cols:\n",
    "#             pr_join = pr_join.drop_duplicates(subset=hashable_cols)\n",
    "#         progress_count += 1\n",
    "#         print(f'Processed {progress_count} of {files_count} files', end='\\r')\n",
    "\"\"\""
   ]
  },
  {
   "cell_type": "code",
   "execution_count": 69,
   "id": "3aa00150",
   "metadata": {},
   "outputs": [],
   "source": [
    "acct_api = pd.read_json(\n",
    "    r\"J:\\VIEWPOINT\\Accountables_Response\\2025-08-08-Accountables.json\",\n",
    ")\n",
    "df_flat = json_normalize(acct_api.to_dict(orient=\"records\"))\n",
    "acct_api = pd.concat([acct_api, df_flat], ignore_index=True)"
   ]
  },
  {
   "cell_type": "code",
   "execution_count": 70,
   "id": "15e81308",
   "metadata": {},
   "outputs": [
    {
     "name": "stdout",
     "output_type": "stream",
     "text": [
      "Index(['network_uuid', 'site_id', 'site_study_uuid', 'site_study_id',\n",
      "       'protocol_id', 'site_protocol_id', 'accountable_uuid', 'network_name',\n",
      "       'network_study_uuid', 'site_name', 'completion_date', 'aging_date',\n",
      "       'transaction_type', 'accountable_type_desc', 'accountable_name',\n",
      "       'site_protocol_version_desc', 'line_item_status', 'account',\n",
      "       'participant_uuid', 'participant_visit_uuid',\n",
      "       'participant_visit_activity_uuid', 'assignee_name', 'amount',\n",
      "       'amount_paid', 'payment_status', 'payment_history',\n",
      "       'holdback_percentage', 'holdback_amount', 'invoiceable_ind',\n",
      "       'invoice_number', 'invoice_uuid', 'payable_type_desc', 'provider_name',\n",
      "       'vendor_name', 'account.account_name', 'account.account_id',\n",
      "       'account.sub_account_name', 'account.sub_account_id'],\n",
      "      dtype='object')\n"
     ]
    }
   ],
   "source": [
    "print(acct_api.columns)"
   ]
  },
  {
   "cell_type": "code",
   "execution_count": null,
   "id": "7627cbe9",
   "metadata": {},
   "outputs": [
    {
     "name": "stdout",
     "output_type": "stream",
     "text": [
      "Index(['Unnamed: 0', 'Transaction Created Date', 'Accountable Completed Date',\n",
      "       'Aging Date', 'Accountable ID', 'Payment Date',\n",
      "       'Transaction Line Item Type', 'Transaction Line Item',\n",
      "       'Protocol Version', 'Holdback Percentage', 'Holdback Amount',\n",
      "       'Invoiceable (Yes / No)', 'Payment ID', 'Provider', 'Vendor',\n",
      "       'Vendor Code', 'Account Code', 'Sub Account Code', 'Department Code',\n",
      "       'Study Account Code', 'Service Line Code', 'Grant Code',\n",
      "       'Site Account Code', 'Network Revenue Expense Code', 'Activity Code',\n",
      "       'Transaction Amount', 'Payment Amount', 'Patient Name', 'Patient MRN',\n",
      "       'Routine Care (Yes / No)', 'Transaction Type', 'Ledger Entry Type',\n",
      "       'AR/AP Status', 'Site Name', 'Site Study Code', 'Subject ID',\n",
      "       'Sponsor Study ID', 'CRO Name', 'Visit Name',\n",
      "       'Participant Protocol Arm', 'Visit Location', 'Event Name',\n",
      "       'Sponsor Name', 'Principal Investigators', 'Lead Coordinators'],\n",
      "      dtype='object')\n"
     ]
    }
   ],
   "source": [
    "print(transactions.columns)\n",
    "\n",
    "transactions = transactions.drop(\n",
    "    columns=[\n",
    "        \"Unnamed: 0\",\n",
    "    ]\n",
    ")"
   ]
  },
  {
   "cell_type": "code",
   "execution_count": 72,
   "id": "4c2b1508",
   "metadata": {},
   "outputs": [
    {
     "name": "stdout",
     "output_type": "stream",
     "text": [
      "Match found: transactions.Transaction Created Date <-> acct_api.completion_date\n",
      "Rows: 1191262\n"
     ]
    }
   ],
   "source": [
    "# Searching for matching columns to join on\n",
    "\n",
    "\n",
    "from itertools import product\n",
    "\n",
    "\n",
    "def is_hashable_series(series):\n",
    "    return not series.apply(lambda x: isinstance(x, (list, dict))).any()\n",
    "\n",
    "\n",
    "left_cols = transactions.columns\n",
    "right_cols = acct_api.columns\n",
    "\n",
    "found = False\n",
    "for lcol, rcol in product(left_cols, right_cols):\n",
    "    if not is_hashable_series(transactions[lcol]) or not is_hashable_series(\n",
    "        acct_api[rcol]\n",
    "    ):\n",
    "        continue\n",
    "    left_unique = set(transactions[lcol].dropna().unique())\n",
    "    right_unique = set(acct_api[rcol].dropna().unique())\n",
    "    overlap = left_unique & right_unique\n",
    "    if overlap:\n",
    "        try:\n",
    "            temp_df = pd.merge(\n",
    "                transactions,\n",
    "                acct_api,\n",
    "                left_on=lcol,\n",
    "                right_on=rcol,\n",
    "                how=\"right\",\n",
    "            )\n",
    "            if not temp_df.empty:\n",
    "                print(f\"Match found: transactions.{lcol} <-> acct_api.{rcol}\")\n",
    "                print(f\"Rows: {temp_df.shape[0]}\")\n",
    "                merged_df = temp_df\n",
    "                found = True\n",
    "                break\n",
    "        except Exception:\n",
    "            continue\n",
    "\n",
    "if not found:\n",
    "    print(\"No matching column combination found that produces a non-empty inner join.\")"
   ]
  },
  {
   "cell_type": "code",
   "execution_count": 73,
   "id": "688e4e7f",
   "metadata": {},
   "outputs": [
    {
     "name": "stdout",
     "output_type": "stream",
     "text": [
      "1191262\n"
     ]
    }
   ],
   "source": [
    "print(merged_df.shape[0])"
   ]
  },
  {
   "cell_type": "code",
   "execution_count": 74,
   "id": "e0c5cea7",
   "metadata": {},
   "outputs": [
    {
     "data": {
      "text/plain": [
       "'\\nMatch found: transactions.Transaction Line Item Type <-> acct_api.activity_name\\nRows: 1735524\\n\\n\\n'"
      ]
     },
     "execution_count": 74,
     "metadata": {},
     "output_type": "execute_result"
    }
   ],
   "source": [
    "\"\"\"\n",
    "Match found: transactions.Transaction Line Item Type <-> acct_api.activity_name\n",
    "Rows: 1735524\n",
    "\n",
    "\n",
    "\"\"\""
   ]
  }
 ],
 "metadata": {
  "kernelspec": {
   "display_name": ".venv (3.13.7)",
   "language": "python",
   "name": "python3"
  },
  "language_info": {
   "codemirror_mode": {
    "name": "ipython",
    "version": 3
   },
   "file_extension": ".py",
   "mimetype": "text/x-python",
   "name": "python",
   "nbconvert_exporter": "python",
   "pygments_lexer": "ipython3",
   "version": "3.13.7"
  }
 },
 "nbformat": 4,
 "nbformat_minor": 5
}
