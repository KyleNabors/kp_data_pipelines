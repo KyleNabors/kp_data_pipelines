{
 "cells": [
  {
   "cell_type": "code",
   "execution_count": 3,
   "id": "3c2861d3",
   "metadata": {},
   "outputs": [],
   "source": [
    "import os\n",
    "import sys\n",
    "import pandas as pd"
   ]
  },
  {
   "cell_type": "code",
   "execution_count": 5,
   "id": "c8690668",
   "metadata": {},
   "outputs": [],
   "source": [
    "florence = pd.read_json(\n",
    "    \"J:\\\\Florence\\\\ndjson\\\\kpnc_document_audit_2025-09-15.ndjson\", lines=True\n",
    ")"
   ]
  },
  {
   "cell_type": "code",
   "execution_count": null,
   "id": "f23de9a2",
   "metadata": {},
   "outputs": [],
   "source": [
    "florence = florence.drop_duplicates()\n",
    "florence = florence.drop(\n",
    "    columns=[\n",
    "        \"TEAM NAME\",\n",
    "        \"kpnc_document_audit_id\",\n",
    "        \"kpnc_document_id\",\n",
    "        \"created_at\",\n",
    "        \"updated_at\",\n",
    "        \"created_by\",\n",
    "        \"updated_by\",\n",
    "        \"kpnc_patient_id\",\n",
    "        \"kpnc_encounter_id\",\n",
    "        \"kpnc_provider_id\",\n",
    "        \"kpnc_location_id\",\n",
    "        \"kpnc_facility_id\",\n",
    "        \"kpnc_insurance_id\",\n",
    "        \"kpnc_insurance_plan_id\",\n",
    "        \"kpnc_insurance_subscriber_id\",\n",
    "        \"kpnc_insurance_subscriber_relationship_id\",\n",
    "        \"kpnc_insurance_group_id\",\n",
    "        \"kpnc_insurance_benefit_id\",\n",
    "        \"kpnc_insurance_benefit_plan_id\",\n",
    "        \"kpnc_insurance_benefit_subscriber_id\",\n",
    "        \"kpnc_insurance_benefit_subscriber_relationship_id\",\n",
    "        \"kpnc_insurance_benefit_group_id\",\n",
    "        \"kpnc_insurance_benefit_plan_group_id\",\n",
    "    ]\n",
    ")"
   ]
  },
  {
   "cell_type": "code",
   "execution_count": null,
   "id": "204eb3bb",
   "metadata": {},
   "outputs": [],
   "source": []
  },
  {
   "cell_type": "code",
   "execution_count": 7,
   "id": "d4b87994",
   "metadata": {},
   "outputs": [],
   "source": [
    "florence.to_csv(\n",
    "    \"C:\\\\Users\\\\O304312\\\\Downloads\\\\kpnc_document_audit_2025-09-15.csv\", index=False\n",
    ")"
   ]
  },
  {
   "cell_type": "code",
   "execution_count": null,
   "id": "217a6a4a",
   "metadata": {},
   "outputs": [],
   "source": [
    "server_data = r\"J:\\VIEWPOINT\\ParticipantVisitActivity_Response\\ndjson\"\n",
    "\n",
    "print(os.listdir(server_data))\n",
    "\n",
    "merged_data = pd.DataFrame()\n",
    "\n",
    "progress_count = 0\n",
    "file_count = len(os.listdir(server_data))\n",
    "\n",
    "\"\"\"\n",
    "for file in os.listdir(server_data):\n",
    "    if file.endswith(\".ndjson\"):\n",
    "        progress_count += 1\n",
    "        file_path = os.path.join(server_data, file)\n",
    "        print(f\"Processing file: {file_path}\")\n",
    "        print(f\"Progress: {progress_count}/{file_count}\")\n",
    "        \n",
    "        try:\n",
    "            df = pd.read_json(file_path, lines=True)\n",
    "            df = df[['participant_uuid', 'subject_id', 'participant_visit_uuid', 'activity_name', 'activity_completed_date', 'activity_status']]\n",
    "            # convert all columns to string\n",
    "            df = df.astype(str)\n",
    "            df = df[df['activity_completed_date'] != '']\n",
    "            df = df[df['activity_completed_date'] != 'None']\n",
    "            merged_data = pd.concat([merged_data, df], ignore_index=True)\n",
    "            duplicate_count = merged_data.duplicated().sum()\n",
    "            print(f\"Number of duplicate rows in merged data: {duplicate_count}\")\n",
    "            merged_data = merged_data.drop_duplicates()\n",
    "            print(f\"current file size: {merged_data.memory_usage(deep=True).sum() / 1024 ** 2:.2f} MB\")\n",
    "        except Exception as e:\n",
    "            print(f\"Error reading {file_path}: {e}\")\n",
    "\"\"\"\n",
    "dates = pd.DataFrame(columns=[\"date\", \"filename\"])\n",
    "for file in os.listdir(server_data):\n",
    "    date = file[0:10]\n",
    "    dates = pd.concat(\n",
    "        [dates, pd.DataFrame({\"date\": [date], \"filename\": [file]})], ignore_index=True\n",
    "    )\n",
    "\n",
    "dates = dates.sort_values(by=\"date\", ascending=False)\n",
    "\n",
    "print(dates.iloc[0])\n",
    "\n",
    "study_data = pd.read_json(\n",
    "    os.path.join(server_data, dates.iloc[0][\"filename\"]), lines=True\n",
    ")\n",
    "print(study_data.columns)\n",
    "study_data.to_csv(r\"C:\\Users\\O304312\\Documents\\study_data.csv\", index=False)"
   ]
  }
 ],
 "metadata": {
  "kernelspec": {
   "display_name": ".venv (3.13.7)",
   "language": "python",
   "name": "python3"
  },
  "language_info": {
   "codemirror_mode": {
    "name": "ipython",
    "version": 3
   },
   "file_extension": ".py",
   "mimetype": "text/x-python",
   "name": "python",
   "nbconvert_exporter": "python",
   "pygments_lexer": "ipython3",
   "version": "3.13.7"
  }
 },
 "nbformat": 4,
 "nbformat_minor": 5
}
