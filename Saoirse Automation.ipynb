{
 "cells": [
  {
   "cell_type": "code",
   "execution_count": 36,
   "id": "2af061f8",
   "metadata": {},
   "outputs": [],
   "source": [
    "import os\n",
    "import pandas as pd\n",
    "from datetime import datetime"
   ]
  },
  {
   "cell_type": "code",
   "execution_count": 37,
   "id": "dfe52126",
   "metadata": {},
   "outputs": [
    {
     "name": "stdout",
     "output_type": "stream",
     "text": [
      "15_09_2025\n",
      "Folder already exists: C:\\Users\\O304312\\Documents\\Dashboard Files\\dashboard_files_15_09_2025\n"
     ]
    }
   ],
   "source": [
    "current_date = datetime.now().strftime(\"%d_%m_%Y\")\n",
    "print(current_date)\n",
    "\n",
    "folder_name = f\"dashboard_files_{current_date}\"\n",
    "folder_path = os.path.join(r\"C:\\Users\\O304312\\Documents\\Dashboard Files\", folder_name)\n",
    "if not os.path.exists(folder_path):\n",
    "    os.makedirs(folder_path)\n",
    "    print(f\"Folder created at: {folder_path}\")\n",
    "else:\n",
    "    print(f\"Folder already exists: {folder_path}\")"
   ]
  },
  {
   "cell_type": "code",
   "execution_count": 38,
   "id": "e61eecc0",
   "metadata": {},
   "outputs": [],
   "source": [
    "today = datetime.today()\n",
    "first_of_this_month = today.replace(day=1)\n",
    "first_of_last_month = (first_of_this_month - pd.DateOffset(months=1)).replace(day=1)"
   ]
  },
  {
   "cell_type": "code",
   "execution_count": 39,
   "id": "eddd977b",
   "metadata": {},
   "outputs": [],
   "source": [
    "snapshot_ds = r\"J:\\ONELINK\\Snapshot Datasources\""
   ]
  },
  {
   "cell_type": "code",
   "execution_count": 40,
   "id": "65e65149",
   "metadata": {},
   "outputs": [
    {
     "name": "stdout",
     "output_type": "stream",
     "text": [
      "Index(['Unnamed: 0', 'Site Name', 'Site Study Code', 'Subject ID',\n",
      "       'Patient MRN', 'Patient Name', 'Patient Birth Date',\n",
      "       'Patient Phone Number', 'Patient Email Address', 'Address',\n",
      "       'Participant Status', 'Site Protocol Version',\n",
      "       'Participant Protocol Arm', 'Visit Period', 'Visit Name',\n",
      "       'Visit Location', 'Visit Status', 'Enrolling Investigator',\n",
      "       'Enrolling Coordinator', 'Active Investigator', 'Visit Scheduled Date',\n",
      "       'Visit Target Date', 'Unplanned Visit Y N', 'Visit Completed Date',\n",
      "       'Latest Visit Note', 'Site Study PI', 'Lead Research Coordinator'],\n",
      "      dtype='object')\n"
     ]
    },
    {
     "name": "stderr",
     "output_type": "stream",
     "text": [
      "C:\\Users\\O304312\\AppData\\Local\\Temp\\ipykernel_13964\\153183221.py:1: DtypeWarning: Columns (4) have mixed types. Specify dtype option on import or set low_memory=False.\n",
      "  visit_data = pd.read_csv(r\"C:\\Users\\O304312\\Downloads\\Data Table Visit Data.csv\")\n"
     ]
    }
   ],
   "source": [
    "visit_data = pd.read_csv(r\"C:\\Users\\O304312\\Downloads\\Data Table Visit Data.csv\")\n",
    "\n",
    "print(visit_data.columns)"
   ]
  },
  {
   "cell_type": "code",
   "execution_count": 41,
   "id": "48cba119",
   "metadata": {},
   "outputs": [
    {
     "name": "stdout",
     "output_type": "stream",
     "text": [
      "Site Name                   object\n",
      "Site Study Code             object\n",
      "Subject ID                  object\n",
      "Participant Status          object\n",
      "Participant Protocol Arm    object\n",
      "Visit Period                object\n",
      "Visit Name                  object\n",
      "Visit Status                object\n",
      "Visit Completed Date        object\n",
      "dtype: object\n"
     ]
    }
   ],
   "source": [
    "visit_data = visit_data[\n",
    "    [\n",
    "        \"Site Name\",\n",
    "        \"Site Study Code\",\n",
    "        \"Subject ID\",\n",
    "        \"Participant Status\",\n",
    "        \"Participant Protocol Arm\",\n",
    "        \"Visit Period\",\n",
    "        \"Visit Name\",\n",
    "        \"Visit Status\",\n",
    "        \"Visit Completed Date\",\n",
    "    ]\n",
    "]\n",
    "print(visit_data.dtypes)\n",
    "\n",
    "visit_data = visit_data.rename(\n",
    "    columns={\n",
    "        \"Site Name\": \"Site\",\n",
    "        \"Site Study Code\": \"Site Study ID\",\n",
    "        \"Participant Protocol Arm\": \"Arm\",\n",
    "    }\n",
    ")\n",
    "\n",
    "# Convert Visit Completed Date to datetime\n",
    "visit_data[\"Visit Completed Date\"] = pd.to_datetime(\n",
    "    visit_data[\"Visit Completed Date\"], errors=\"coerce\"\n",
    ")\n",
    "\n",
    "visit_data = visit_data[visit_data[\"Visit Completed Date\"] < first_of_last_month]\n",
    "\n",
    "visit_data.to_csv(f\"{folder_path}/Visit Data_data.csv\", index=False)"
   ]
  },
  {
   "cell_type": "code",
   "execution_count": 42,
   "id": "2505a19a",
   "metadata": {},
   "outputs": [
    {
     "name": "stdout",
     "output_type": "stream",
     "text": [
      "Index(['Unnamed: 0', 'Site Name', 'With Location', 'Sponsor Site Number',\n",
      "       'Nct ID', 'Network Study Code', 'Network Study Status',\n",
      "       'Site Study Code', 'Site Study Status', 'Study Title', 'Study Phase',\n",
      "       'Study Type', 'Study Purpose', 'Funding Source', 'Site IRB Name',\n",
      "       'Site IRB Status', 'Site IRB Expiration Date', 'IRB Submission Number',\n",
      "       'Study Account Code', 'Principal Investigators', 'Lead Coordinators',\n",
      "       'Regulatory Coordinators', 'Site Study Start Date',\n",
      "       'Site Study End Date', 'Site Enrollment Start Date',\n",
      "       'Site Enrollment End Date', 'Study Therapeutic Areas',\n",
      "       'Study Therapeutic Area Details', 'Study Sponsors',\n",
      "       'Site Enrollment Target', 'CRO Name', 'Total Patients Prescreened Sum',\n",
      "       'Failed Prescreening Sum', 'Total Participants Sum', 'In Screening Sum',\n",
      "       'Failed Screening Sum', 'In Treatment Sum', 'Completed Sum',\n",
      "       'Follow Up Sum', 'Off Study Sum', 'Long Term Follow Up Sum'],\n",
      "      dtype='object')\n"
     ]
    }
   ],
   "source": [
    "study_accruals = pd.read_csv(r\"C:\\Users\\O304312\\Downloads\\Data Table Study Accrual.csv\")\n",
    "\n",
    "print(study_accruals.columns)"
   ]
  },
  {
   "cell_type": "code",
   "execution_count": 43,
   "id": "cb2aea41",
   "metadata": {},
   "outputs": [
    {
     "name": "stdout",
     "output_type": "stream",
     "text": [
      "Site                               object\n",
      "Sponsor Site Number               float64\n",
      "Network Study Code                 object\n",
      "Network Study Status               object\n",
      "Site Study ID                      object\n",
      "Site Study Status                  object\n",
      "Study Title                        object\n",
      "Study Phase                        object\n",
      "Study Type                         object\n",
      "Funding Source                     object\n",
      "Site IRB Name                      object\n",
      "Site IRB Status                    object\n",
      "Site IRB Expiration Date           object\n",
      "IRB Submission Number             float64\n",
      "Principal Investigators            object\n",
      "Lead Coordinators                  object\n",
      "Site Study Start Date              object\n",
      "Site Study End Date                object\n",
      "Site Enrollment Start Date         object\n",
      "Site Enrollment End Date           object\n",
      "Study Therapeutic Areas            object\n",
      "Study Therapeutic Area Details     object\n",
      "Study Sponsors                    float64\n",
      "Site Enrollment Targets           float64\n",
      "CRO Name                          float64\n",
      "Total Patients Prescreened Sum      int64\n",
      "Failed Prescreening Sum             int64\n",
      "Total Participants Sum              int64\n",
      "In Screening Sum                    int64\n",
      "Failed Screening Sum                int64\n",
      "In Treatment Sum                    int64\n",
      "Completed Sum                       int64\n",
      "Follow Up Sum                       int64\n",
      "Off Study Sum                       int64\n",
      "Long Term Follow Up Sum             int64\n",
      "dtype: object\n"
     ]
    }
   ],
   "source": [
    "study_accruals = study_accruals[\n",
    "    [\n",
    "        \"Site Name\",\n",
    "        \"Sponsor Site Number\",\n",
    "        \"Network Study Code\",\n",
    "        \"Network Study Status\",\n",
    "        \"Site Study Code\",\n",
    "        \"Site Study Status\",\n",
    "        \"Study Title\",\n",
    "        \"Study Phase\",\n",
    "        \"Study Type\",\n",
    "        \"Funding Source\",\n",
    "        \"Site IRB Name\",\n",
    "        \"Site IRB Status\",\n",
    "        \"Site IRB Expiration Date\",\n",
    "        \"IRB Submission Number\",\n",
    "        \"Principal Investigators\",\n",
    "        \"Lead Coordinators\",\n",
    "        \"Site Study Start Date\",\n",
    "        \"Site Study End Date\",\n",
    "        \"Site Enrollment Start Date\",\n",
    "        \"Site Enrollment End Date\",\n",
    "        \"Study Therapeutic Areas\",\n",
    "        \"Study Therapeutic Area Details\",\n",
    "        \"Study Sponsors\",\n",
    "        \"Site Enrollment Target\",\n",
    "        \"CRO Name\",\n",
    "        \"Total Patients Prescreened Sum\",\n",
    "        \"Failed Prescreening Sum\",\n",
    "        \"Total Participants Sum\",\n",
    "        \"In Screening Sum\",\n",
    "        \"Failed Screening Sum\",\n",
    "        \"In Treatment Sum\",\n",
    "        \"Completed Sum\",\n",
    "        \"Follow Up Sum\",\n",
    "        \"Off Study Sum\",\n",
    "        \"Long Term Follow Up Sum\",\n",
    "    ]\n",
    "]\n",
    "\n",
    "study_accruals = study_accruals.rename(\n",
    "    columns={\n",
    "        \"Site Name\": \"Site\",\n",
    "        \"Site Study Code\": \"Site Study ID\",\n",
    "        \"Site Enrollment Target\": \"Site Enrollment Targets\",\n",
    "    }\n",
    ")\n",
    "\n",
    "print(study_accruals.dtypes)\n",
    "\n",
    "study_accruals.to_csv(f\"{folder_path}/Study Accrual Data.csv\", index=False)"
   ]
  },
  {
   "cell_type": "code",
   "execution_count": 44,
   "id": "c3a21859",
   "metadata": {},
   "outputs": [
    {
     "name": "stdout",
     "output_type": "stream",
     "text": [
      "Index(['Unnamed: 0', 'Site Name', 'Participant Location', 'Patient Name',\n",
      "       'Patient MRN', 'Subject ID', 'Site Study Code', 'Study Type',\n",
      "       'Study Purpose', 'Participant Status', 'Participant Status Date',\n",
      "       'Patient Birth Date', 'Patient Age Num', 'Sex At Birth',\n",
      "       'Patient Gender Identity', 'Patient Ethnicity', 'Patient Race',\n",
      "       'Participant Initial Consent Date', 'Participant Latest Consent Date',\n",
      "       'Participant Consent Status', 'Participant Eligibility Date',\n",
      "       'Participant Eligibility Result', 'Screening Date',\n",
      "       'Total Screen Failures', 'Latest Screen Failure Date',\n",
      "       'Latest Screen Failure Notes', 'Participant Enrollment Date',\n",
      "       'Participant Enrolled (Yes / No)', 'Treatment Date', 'Follow Up Date',\n",
      "       'Off Study Date', 'Completed Date', 'Long Term Follow Up (Yes / No)',\n",
      "       'Address', 'Patient Phone Number', 'Patient Email Address',\n",
      "       'Study Therapeutic Areas', 'Patient Therapeutic Areas',\n",
      "       'Study Therapeutic Area Details', 'Patient Therapeutic Area Details',\n",
      "       'Participant Referral Type', 'Participant Referral Date',\n",
      "       'Enrolling Investigator', 'Enrolling Coordinator',\n",
      "       'Lead Research Coordinators', 'Patient Diagnosis', 'Patient Biomarkers',\n",
      "       'Patient Tags', 'Participant Tags', 'Deceased (Yes / No)',\n",
      "       'Deceased Date', 'Patient Notes', 'Patient Medical History'],\n",
      "      dtype='object')\n"
     ]
    }
   ],
   "source": [
    "partis_info = pd.read_csv(\n",
    "    r\"C:\\Users\\O304312\\Downloads\\Data Table Participant Information.csv\"\n",
    ")\n",
    "\n",
    "print(partis_info.columns)"
   ]
  },
  {
   "cell_type": "code",
   "execution_count": 45,
   "id": "ac552fcc",
   "metadata": {},
   "outputs": [],
   "source": [
    "partis_info = partis_info[\n",
    "    [\n",
    "        \"Subject ID\",\n",
    "        \"Site Study Code\",\n",
    "        \"Participant Status\",\n",
    "        \"Participant Status Date\",\n",
    "        \"Participant Latest Consent Date\",\n",
    "        \"Participant Consent Status\",\n",
    "    ]\n",
    "]\n",
    "\n",
    "partis_info[\"Participant Latest Consent Date\"] = partis_info[\n",
    "    \"Participant Latest Consent Date\"\n",
    "].replace([\"\", \"0\", 0], pd.NA)\n",
    "if \"Latest Screen Failure Date\" in partis_info.columns:\n",
    "    partis_info[\"Participant Latest Consent Date\"] = partis_info[\n",
    "        \"Participant Latest Consent Date\"\n",
    "    ].fillna(partis_info[\"Latest Screen Failure Date\"])\n",
    "\n",
    "\n",
    "partis_info = partis_info.rename(\n",
    "    columns={\n",
    "        \"Site Study Code\": \"Site Study ID\",\n",
    "        \"Participant Status Date\": \"Current Status Date\",\n",
    "        \"Participant Latest Consent Date\": \"Current Consent Date\",\n",
    "        \"Participant Consent Status\": \"Consent Result\",\n",
    "    }\n",
    ")\n",
    "\n",
    "partis_info[\"Current Consent Date\"] = pd.to_datetime(\n",
    "    partis_info[\"Current Consent Date\"], errors=\"coerce\"\n",
    ")\n",
    "\n",
    "partis_info = partis_info[partis_info[\"Current Consent Date\"] < first_of_last_month]\n",
    "\n",
    "partis_info.to_csv(f\"{folder_path}/Participant Information Data Sheet.csv\", index=False)"
   ]
  }
 ],
 "metadata": {
  "kernelspec": {
   "display_name": ".venv (3.13.7)",
   "language": "python",
   "name": "python3"
  },
  "language_info": {
   "codemirror_mode": {
    "name": "ipython",
    "version": 3
   },
   "file_extension": ".py",
   "mimetype": "text/x-python",
   "name": "python",
   "nbconvert_exporter": "python",
   "pygments_lexer": "ipython3",
   "version": "3.13.7"
  }
 },
 "nbformat": 4,
 "nbformat_minor": 5
}
