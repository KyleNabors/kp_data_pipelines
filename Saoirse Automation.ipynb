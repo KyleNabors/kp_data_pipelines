{
 "cells": [
  {
   "cell_type": "code",
   "execution_count": 18,
   "id": "2af061f8",
   "metadata": {},
   "outputs": [],
   "source": [
    "import os\n",
    "import pandas as pd\n",
    "from datetime import datetime"
   ]
  },
  {
   "cell_type": "code",
   "execution_count": 19,
   "id": "dfe52126",
   "metadata": {},
   "outputs": [
    {
     "name": "stdout",
     "output_type": "stream",
     "text": [
      "22_09_2025\n",
      "Folder already exists: C:\\Users\\O304312\\Documents\\Dashboard Files\\dashboard_files_22_09_2025\n"
     ]
    }
   ],
   "source": [
    "current_date = datetime.now().strftime(\"%d_%m_%Y\")\n",
    "print(current_date)\n",
    "\n",
    "folder_name = f\"dashboard_files_{current_date}\"\n",
    "folder_path = os.path.join(r\"C:\\Users\\O304312\\Documents\\Dashboard Files\", folder_name)\n",
    "if not os.path.exists(folder_path):\n",
    "    os.makedirs(folder_path)\n",
    "    print(f\"Folder created at: {folder_path}\")\n",
    "else:\n",
    "    print(f\"Folder already exists: {folder_path}\")"
   ]
  },
  {
   "cell_type": "code",
   "execution_count": 20,
   "id": "e61eecc0",
   "metadata": {},
   "outputs": [
    {
     "name": "stdout",
     "output_type": "stream",
     "text": [
      "august\n",
      "August\n"
     ]
    }
   ],
   "source": [
    "today = datetime.today()\n",
    "first_of_this_month = today.replace(day=1)\n",
    "first_of_last_month = (first_of_this_month - pd.DateOffset(months=1)).replace(day=1)\n",
    "\n",
    "month = first_of_last_month.strftime(\"%B\").lower()\n",
    "print(month)\n",
    "cap_month = month.capitalize()\n",
    "print(cap_month)"
   ]
  },
  {
   "cell_type": "code",
   "execution_count": 21,
   "id": "eddd977b",
   "metadata": {},
   "outputs": [],
   "source": [
    "snapshot_ds = r\"J:\\ONELINK\\Snapshot Datasources\""
   ]
  },
  {
   "cell_type": "code",
   "execution_count": 22,
   "id": "65e65149",
   "metadata": {},
   "outputs": [
    {
     "name": "stdout",
     "output_type": "stream",
     "text": [
      "Index(['Unnamed: 0', 'Site Name', 'Site Study Code', 'Subject ID',\n",
      "       'Patient MRN', 'Patient Name', 'Patient Birth Date',\n",
      "       'Patient Phone Number', 'Patient Email Address', 'Address',\n",
      "       'Participant Status', 'Site Protocol Version',\n",
      "       'Participant Protocol Arm', 'Visit Period', 'Visit Name',\n",
      "       'Visit Location', 'Visit Status', 'Enrolling Investigator',\n",
      "       'Enrolling Coordinator', 'Active Investigator', 'Visit Scheduled Date',\n",
      "       'Visit Target Date', 'Unplanned Visit Y N', 'Visit Completed Date',\n",
      "       'Latest Visit Note', 'Site Study PI', 'Lead Research Coordinator'],\n",
      "      dtype='object')\n"
     ]
    }
   ],
   "source": [
    "visit_data = pd.read_csv(\n",
    "    r\"C:\\Users\\O304312\\Downloads\\Data Table Visit Data.csv\",\n",
    "    low_memory=False,\n",
    ")\n",
    "\n",
    "print(visit_data.columns)"
   ]
  },
  {
   "cell_type": "code",
   "execution_count": 23,
   "id": "48cba119",
   "metadata": {},
   "outputs": [
    {
     "name": "stdout",
     "output_type": "stream",
     "text": [
      "Site Name                   object\n",
      "Site Study Code             object\n",
      "Subject ID                  object\n",
      "Participant Status          object\n",
      "Participant Protocol Arm    object\n",
      "Visit Period                object\n",
      "Visit Name                  object\n",
      "Visit Status                object\n",
      "Visit Completed Date        object\n",
      "dtype: object\n"
     ]
    }
   ],
   "source": [
    "visit_data = visit_data[\n",
    "    [\n",
    "        \"Site Name\",\n",
    "        \"Site Study Code\",\n",
    "        \"Subject ID\",\n",
    "        \"Participant Status\",\n",
    "        \"Participant Protocol Arm\",\n",
    "        \"Visit Period\",\n",
    "        \"Visit Name\",\n",
    "        \"Visit Status\",\n",
    "        \"Visit Completed Date\",\n",
    "    ]\n",
    "]\n",
    "print(visit_data.dtypes)\n",
    "\n",
    "visit_data = visit_data.rename(\n",
    "    columns={\n",
    "        \"Site Name\": \"Site\",\n",
    "        \"Site Study Code\": \"Site Study ID\",\n",
    "        \"Participant Protocol Arm\": \"Arm\",\n",
    "    }\n",
    ")\n",
    "\n",
    "# Convert Visit Completed Date to datetime\n",
    "visit_data[\"Visit Completed Date\"] = pd.to_datetime(\n",
    "    visit_data[\"Visit Completed Date\"], errors=\"coerce\"\n",
    ")\n",
    "\n",
    "visit_data = visit_data[visit_data[\"Visit Completed Date\"] < first_of_last_month]\n",
    "\n",
    "visit_data.to_csv(f\"{folder_path}/Visit Data_data.csv\", index=False)"
   ]
  },
  {
   "cell_type": "code",
   "execution_count": 24,
   "id": "2505a19a",
   "metadata": {},
   "outputs": [
    {
     "name": "stdout",
     "output_type": "stream",
     "text": [
      "Index(['Unnamed: 0', 'Site Name', 'With Location', 'Sponsor Site Number',\n",
      "       'Nct ID', 'Network Study Code', 'Network Study Status',\n",
      "       'Site Study Code', 'Site Study Status', 'Study Title', 'Study Phase',\n",
      "       'Study Type', 'Study Purpose', 'Funding Source', 'Site IRB Name',\n",
      "       'Site IRB Status', 'Site IRB Expiration Date', 'IRB Submission Number',\n",
      "       'Study Account Code', 'Principal Investigators', 'Lead Coordinators',\n",
      "       'Regulatory Coordinators', 'Site Study Start Date',\n",
      "       'Site Study End Date', 'Site Enrollment Start Date',\n",
      "       'Site Enrollment End Date', 'Study Therapeutic Areas',\n",
      "       'Study Therapeutic Area Details', 'Study Sponsors',\n",
      "       'Site Enrollment Target', 'CRO Name', 'Total Patients Prescreened Sum',\n",
      "       'Failed Prescreening Sum', 'Total Participants Sum', 'In Screening Sum',\n",
      "       'Failed Screening Sum', 'In Treatment Sum', 'Completed Sum',\n",
      "       'Follow Up Sum', 'Off Study Sum', 'Long Term Follow Up Sum'],\n",
      "      dtype='object')\n"
     ]
    }
   ],
   "source": [
    "study_accruals = pd.read_csv(\n",
    "    r\"C:\\Users\\O304312\\Downloads\\Data Table Study Accrual.csv\",\n",
    "    low_memory=False,\n",
    ")\n",
    "\n",
    "print(study_accruals.columns)"
   ]
  },
  {
   "cell_type": "code",
   "execution_count": 25,
   "id": "cb2aea41",
   "metadata": {},
   "outputs": [
    {
     "name": "stdout",
     "output_type": "stream",
     "text": [
      "Site                               object\n",
      "Sponsor Site Number               float64\n",
      "Network Study Code                 object\n",
      "Network Study Status               object\n",
      "Site Study ID                      object\n",
      "Site Study Status                  object\n",
      "Study Title                        object\n",
      "Study Phase                        object\n",
      "Study Type                         object\n",
      "Funding Source                     object\n",
      "Site IRB Name                      object\n",
      "Site IRB Status                    object\n",
      "Site IRB Expiration Date           object\n",
      "IRB Submission Number             float64\n",
      "Principal Investigators            object\n",
      "Lead Coordinators                  object\n",
      "Site Study Start Date              object\n",
      "Site Study End Date                object\n",
      "Site Enrollment Start Date         object\n",
      "Site Enrollment End Date           object\n",
      "Study Therapeutic Areas            object\n",
      "Study Therapeutic Area Details     object\n",
      "Study Sponsors                    float64\n",
      "Site Enrollment Targets           float64\n",
      "CRO Name                          float64\n",
      "Total Patients Prescreened Sum      int64\n",
      "Failed Prescreening Sum             int64\n",
      "Total Participants Sum              int64\n",
      "In Screening Sum                    int64\n",
      "Failed Screening Sum                int64\n",
      "In Treatment Sum                    int64\n",
      "Completed Sum                       int64\n",
      "Follow Up Sum                       int64\n",
      "Off Study Sum                       int64\n",
      "Long Term Follow Up Sum             int64\n",
      "dtype: object\n"
     ]
    }
   ],
   "source": [
    "study_accruals = study_accruals[\n",
    "    [\n",
    "        \"Site Name\",\n",
    "        \"Sponsor Site Number\",\n",
    "        \"Network Study Code\",\n",
    "        \"Network Study Status\",\n",
    "        \"Site Study Code\",\n",
    "        \"Site Study Status\",\n",
    "        \"Study Title\",\n",
    "        \"Study Phase\",\n",
    "        \"Study Type\",\n",
    "        \"Funding Source\",\n",
    "        \"Site IRB Name\",\n",
    "        \"Site IRB Status\",\n",
    "        \"Site IRB Expiration Date\",\n",
    "        \"IRB Submission Number\",\n",
    "        \"Principal Investigators\",\n",
    "        \"Lead Coordinators\",\n",
    "        \"Site Study Start Date\",\n",
    "        \"Site Study End Date\",\n",
    "        \"Site Enrollment Start Date\",\n",
    "        \"Site Enrollment End Date\",\n",
    "        \"Study Therapeutic Areas\",\n",
    "        \"Study Therapeutic Area Details\",\n",
    "        \"Study Sponsors\",\n",
    "        \"Site Enrollment Target\",\n",
    "        \"CRO Name\",\n",
    "        \"Total Patients Prescreened Sum\",\n",
    "        \"Failed Prescreening Sum\",\n",
    "        \"Total Participants Sum\",\n",
    "        \"In Screening Sum\",\n",
    "        \"Failed Screening Sum\",\n",
    "        \"In Treatment Sum\",\n",
    "        \"Completed Sum\",\n",
    "        \"Follow Up Sum\",\n",
    "        \"Off Study Sum\",\n",
    "        \"Long Term Follow Up Sum\",\n",
    "    ]\n",
    "]\n",
    "\n",
    "study_accruals = study_accruals.rename(\n",
    "    columns={\n",
    "        \"Site Name\": \"Site\",\n",
    "        \"Site Study Code\": \"Site Study ID\",\n",
    "        \"Site Enrollment Target\": \"Site Enrollment Targets\",\n",
    "    }\n",
    ")\n",
    "\n",
    "print(study_accruals.dtypes)\n",
    "\n",
    "study_accruals.to_csv(f\"{folder_path}/Study Accrual Data.csv\", index=False)"
   ]
  },
  {
   "cell_type": "code",
   "execution_count": 26,
   "id": "c3a21859",
   "metadata": {},
   "outputs": [
    {
     "name": "stdout",
     "output_type": "stream",
     "text": [
      "Index(['Unnamed: 0', 'Site Name', 'Participant Location', 'Patient Name',\n",
      "       'Patient MRN', 'Subject ID', 'Site Study Code', 'Study Type',\n",
      "       'Study Purpose', 'Participant Status', 'Participant Status Date',\n",
      "       'Patient Birth Date', 'Patient Age Num', 'Sex At Birth',\n",
      "       'Patient Gender Identity', 'Patient Ethnicity', 'Patient Race',\n",
      "       'Participant Initial Consent Date', 'Participant Latest Consent Date',\n",
      "       'Participant Consent Status', 'Participant Eligibility Date',\n",
      "       'Participant Eligibility Result', 'Screening Date',\n",
      "       'Total Screen Failures', 'Latest Screen Failure Date',\n",
      "       'Latest Screen Failure Notes', 'Participant Enrollment Date',\n",
      "       'Participant Enrolled (Yes / No)', 'Treatment Date', 'Follow Up Date',\n",
      "       'Off Study Date', 'Completed Date', 'Long Term Follow Up (Yes / No)',\n",
      "       'Address', 'Patient Phone Number', 'Patient Email Address',\n",
      "       'Study Therapeutic Areas', 'Patient Therapeutic Areas',\n",
      "       'Study Therapeutic Area Details', 'Patient Therapeutic Area Details',\n",
      "       'Participant Referral Type', 'Participant Referral Date',\n",
      "       'Enrolling Investigator', 'Enrolling Coordinator',\n",
      "       'Lead Research Coordinators', 'Patient Diagnosis', 'Patient Biomarkers',\n",
      "       'Patient Tags', 'Participant Tags', 'Deceased (Yes / No)',\n",
      "       'Deceased Date', 'Patient Notes', 'Patient Medical History'],\n",
      "      dtype='object')\n"
     ]
    }
   ],
   "source": [
    "partis_info = pd.read_csv(\n",
    "    r\"C:\\Users\\O304312\\Downloads\\Data Table Participant Information.csv\",\n",
    "    low_memory=False,\n",
    ")\n",
    "\n",
    "print(partis_info.columns)"
   ]
  },
  {
   "cell_type": "code",
   "execution_count": 27,
   "id": "ac552fcc",
   "metadata": {},
   "outputs": [],
   "source": [
    "partis_info = partis_info[\n",
    "    [\n",
    "        \"Subject ID\",\n",
    "        \"Site Study Code\",\n",
    "        \"Participant Status\",\n",
    "        \"Participant Status Date\",\n",
    "        \"Participant Latest Consent Date\",\n",
    "        \"Participant Consent Status\",\n",
    "    ]\n",
    "]\n",
    "\n",
    "partis_info[\"Participant Latest Consent Date\"] = partis_info[\n",
    "    \"Participant Latest Consent Date\"\n",
    "].replace([\"\", \"0\", 0], pd.NA)\n",
    "if \"Latest Screen Failure Date\" in partis_info.columns:\n",
    "    partis_info[\"Participant Latest Consent Date\"] = partis_info[\n",
    "        \"Participant Latest Consent Date\"\n",
    "    ].fillna(partis_info[\"Latest Screen Failure Date\"])\n",
    "\n",
    "\n",
    "partis_info = partis_info.rename(\n",
    "    columns={\n",
    "        \"Site Study Code\": \"Site Study ID\",\n",
    "        \"Participant Status Date\": \"Current Status Date\",\n",
    "        \"Participant Latest Consent Date\": \"Current Consent Date\",\n",
    "        \"Participant Consent Status\": \"Consent Result\",\n",
    "    }\n",
    ")\n",
    "\n",
    "partis_info[\"Current Consent Date\"] = pd.to_datetime(\n",
    "    partis_info[\"Current Consent Date\"], errors=\"coerce\"\n",
    ")\n",
    "\n",
    "partis_info = partis_info[partis_info[\"Current Consent Date\"] < first_of_last_month]\n",
    "\n",
    "partis_info.to_csv(\n",
    "    f\"{folder_path}/Participant Information Data Sheet.csv\",\n",
    "    index=False,\n",
    ")"
   ]
  },
  {
   "cell_type": "code",
   "execution_count": 28,
   "id": "e7137981",
   "metadata": {},
   "outputs": [
    {
     "name": "stdout",
     "output_type": "stream",
     "text": [
      "Index(['Transaction Created Date', 'Accountable Completed Date', 'Aging Date',\n",
      "       'Accountable ID', 'Payment Date', 'Transaction Line Item Type',\n",
      "       'Transaction Line Item', 'Protocol Version', 'Holdback Percentage',\n",
      "       'Holdback Amount', 'Invoiceable (Yes / No)', 'Payment ID', 'Provider',\n",
      "       'Vendor', 'Vendor Code', 'Account Code', 'Sub Account Code',\n",
      "       'Department Code', 'Study Account Code', 'Service Line Code',\n",
      "       'Grant Code', 'Site Account Code', 'Network Revenue Expense Code',\n",
      "       'Activity Code', 'Transaction Amount', 'Payment Amount', 'Patient Name',\n",
      "       'Patient MRN', 'Routine Care (Yes / No)', 'Transaction Type',\n",
      "       'Ledger Entry Type', 'AR/AP Status', 'Site Name', 'Site Study Code',\n",
      "       'Subject ID', 'Sponsor Study ID', 'CRO Name', 'Visit Name',\n",
      "       'Participant Protocol Arm', 'Visit Location', 'Event Name',\n",
      "       'Sponsor Name', 'Principal Investigators', 'Lead Coordinators'],\n",
      "      dtype='object')\n"
     ]
    }
   ],
   "source": [
    "transactions = pd.read_csv(\n",
    "    r\"C:\\Users\\O304312\\Downloads\\Transaction.csv\", low_memory=False\n",
    ")\n",
    "\n",
    "transactions = transactions.drop(columns=[\"Unnamed: 0\"])\n",
    "print(transactions.columns)"
   ]
  },
  {
   "cell_type": "markdown",
   "id": "705729b7",
   "metadata": {},
   "source": []
  },
  {
   "cell_type": "code",
   "execution_count": 29,
   "id": "359152e3",
   "metadata": {},
   "outputs": [
    {
     "name": "stdout",
     "output_type": "stream",
     "text": [
      "Number of blank rows in 'Accountable Completed Date': 836\n"
     ]
    }
   ],
   "source": [
    "transactions[\"Accountable Completed Date\"] = pd.to_datetime(\n",
    "    transactions[\"Accountable Completed Date\"], errors=\"coerce\"\n",
    ")\n",
    "\n",
    "transactions[\"Accountable Completed Date\"] = transactions[\n",
    "    \"Accountable Completed Date\"\n",
    "].replace([\"\", \"0\", 0], pd.NA)\n",
    "\n",
    "transactions = transactions[\n",
    "    (transactions[\"Accountable Completed Date\"] < first_of_last_month)\n",
    "    | (transactions[\"Accountable Completed Date\"].isnull())\n",
    "]\n",
    "\n",
    "mask = transactions[\"Accountable Completed Date\"].isna()\n",
    "transactions.loc[mask, \"Accountable Completed Date\"] = pd.to_datetime(\n",
    "    transactions.loc[mask, \"Transaction Created Date\"], errors=\"coerce\"\n",
    ")\n",
    "\n",
    "num_blank_rows = transactions[\"Accountable Completed Date\"].isna().sum()\n",
    "print(f\"Number of blank rows in 'Accountable Completed Date': {num_blank_rows}\")\n",
    "\n",
    "transactions = transactions.drop(columns=[\"Transaction Created Date\"])\n",
    "\n",
    "transactions[\"Account Code\"] = transactions[\"Account Code\"].replace([\"\", \"0\", 0], pd.NA)\n",
    "\n",
    "transactions[\"Account Code\"] = transactions[\"Account Code\"].fillna(47205)\n",
    "\n",
    "transactions.loc[\n",
    "    transactions[\"Transaction Line Item\"] == \"StudyActivity\", \"Account Code\"\n",
    "] = 47206\n",
    "\n",
    "\n",
    "# Next Steps: merge with DOR data in chen file to get overhead rate and then multiply all adhoc changes by oh rate to update cost"
   ]
  },
  {
   "cell_type": "code",
   "execution_count": 30,
   "id": "5c6bd48f",
   "metadata": {},
   "outputs": [
    {
     "name": "stdout",
     "output_type": "stream",
     "text": [
      "Loaded file: J:\\ADMIN-eFILES\\CHEN_W154867_VXC\\zzz_CTP Projects List\\DOR Finance CTP List\\CTP Project List Reconciled 250916.xlsx\n"
     ]
    }
   ],
   "source": [
    "import glob\n",
    "import re\n",
    "\n",
    "excel_files = glob.glob(\n",
    "    r\"J:\\ADMIN-eFILES\\CHEN_W154867_VXC\\zzz_CTP Projects List\\DOR Finance CTP List\\CTP Project List Reconciled *.xlsx\"\n",
    ")\n",
    "\n",
    "\n",
    "def extract_date(filename):\n",
    "    match = re.search(r\"(\\d{6})\\.xlsx$\", filename)\n",
    "    return match.group(1) if match else \"\"\n",
    "\n",
    "\n",
    "excel_files_sorted = sorted(excel_files, key=extract_date, reverse=True)\n",
    "\n",
    "if excel_files_sorted:\n",
    "    latest_excel = excel_files_sorted[0]\n",
    "    dor_ctp_projects = pd.read_excel(latest_excel)\n",
    "    print(f\"Loaded file: {latest_excel}\")\n",
    "else:\n",
    "    print(\"No matching Excel files found.\")"
   ]
  },
  {
   "cell_type": "code",
   "execution_count": 31,
   "id": "4b3aacb6",
   "metadata": {},
   "outputs": [
    {
     "name": "stdout",
     "output_type": "stream",
     "text": [
      "Index(['Accountable Completed Date', 'Aging Date', 'Accountable ID',\n",
      "       'Payment Date', 'Transaction Line Item Type', 'Transaction Line Item',\n",
      "       'Protocol Version', 'Holdback Percentage', 'Holdback Amount',\n",
      "       'Invoiceable (Yes / No)', 'Payment ID', 'Provider', 'Vendor',\n",
      "       'Vendor Code', 'Account Code', 'Sub Account Code', 'Department Code',\n",
      "       'Study Account Code', 'Service Line Code', 'Grant Code',\n",
      "       'Site Account Code', 'Network Revenue Expense Code', 'Activity Code',\n",
      "       'Transaction Amount', 'Payment Amount', 'Patient Name', 'Patient MRN',\n",
      "       'Routine Care (Yes / No)', 'Transaction Type', 'Ledger Entry Type',\n",
      "       'AR/AP Status', 'Site Name', 'Site Study Code', 'Subject ID',\n",
      "       'Sponsor Study ID', 'CRO Name', 'Visit Name',\n",
      "       'Participant Protocol Arm', 'Visit Location', 'Event Name',\n",
      "       'Sponsor Name', 'Principal Investigators', 'Lead Coordinators'],\n",
      "      dtype='object')\n",
      "Index(['Contract ID', 'ProjectID', 'Functional \\nArea', 'Project Status',\n",
      "       'Institution', 'Dept ID', 'Principal Investigator (PI)',\n",
      "       'Award Start Date', 'Award End Date', 'IDC Rate', 'Transferred/DOR/New',\n",
      "       'Funding Type', 'Funder', 'Invoice Type', 'Activity ID',\n",
      "       'Project Description'],\n",
      "      dtype='object')\n"
     ]
    }
   ],
   "source": [
    "print(transactions.columns)\n",
    "print(dor_ctp_projects.columns)\n",
    "dor_ctp_projects = dor_ctp_projects[[\"ProjectID\", \"IDC Rate\"]]\n",
    "\n",
    "dor_ctp_projects = dor_ctp_projects.drop_duplicates()"
   ]
  },
  {
   "cell_type": "code",
   "execution_count": 32,
   "id": "4eec0061",
   "metadata": {},
   "outputs": [],
   "source": [
    "transactions = pd.merge(\n",
    "    transactions,\n",
    "    dor_ctp_projects,\n",
    "    left_on=\"Service Line Code\",\n",
    "    right_on=\"ProjectID\",\n",
    "    how=\"left\",\n",
    ")\n",
    "\n",
    "transactions[\"Transaction Amount\"] = pd.to_numeric(\n",
    "    transactions[\"Transaction Amount\"], errors=\"coerce\"\n",
    ")\n",
    "transactions[\"IDC Rate\"] = pd.to_numeric(transactions[\"IDC Rate\"], errors=\"coerce\")\n",
    "\n",
    "mask = (transactions[\"Transaction Line Item\"] == \"AdHoc\") & (\n",
    "    transactions[\"Account Code\"] == 47205\n",
    ")\n",
    "transactions.loc[mask, \"Transaction Amount\"] = transactions.loc[\n",
    "    mask, \"Transaction Amount\"\n",
    "] * (1 + transactions.loc[mask, \"IDC Rate\"].fillna(0))"
   ]
  },
  {
   "cell_type": "code",
   "execution_count": 33,
   "id": "66627c70",
   "metadata": {},
   "outputs": [
    {
     "name": "stdout",
     "output_type": "stream",
     "text": [
      "Index(['Site Study ID', 'Project ID'], dtype='object')\n",
      "Index(['Accountable Completed Date', 'Aging Date', 'Accountable ID',\n",
      "       'Payment Date', 'Transaction Line Item Type', 'Transaction Line Item',\n",
      "       'Protocol Version', 'Holdback Percentage', 'Holdback Amount',\n",
      "       'Invoiceable (Yes / No)', 'Payment ID', 'Provider', 'Vendor',\n",
      "       'Vendor Code', 'Account Code', 'Sub Account Code', 'Department Code',\n",
      "       'Study Account Code', 'Service Line Code', 'Grant Code',\n",
      "       'Site Account Code', 'Network Revenue Expense Code', 'Activity Code',\n",
      "       'Transaction Amount', 'Payment Amount', 'Patient Name', 'Patient MRN',\n",
      "       'Routine Care (Yes / No)', 'Transaction Type', 'Ledger Entry Type',\n",
      "       'AR/AP Status', 'Site Name', 'Site Study Code', 'Subject ID',\n",
      "       'Sponsor Study ID', 'CRO Name', 'Visit Name',\n",
      "       'Participant Protocol Arm', 'Visit Location', 'Event Name',\n",
      "       'Sponsor Name', 'Principal Investigators', 'Lead Coordinators',\n",
      "       'ProjectID', 'IDC Rate', 'Site Study ID', 'Project ID'],\n",
      "      dtype='object')\n"
     ]
    },
    {
     "name": "stderr",
     "output_type": "stream",
     "text": [
      "C:\\Users\\O304312\\AppData\\Local\\Temp\\ipykernel_5980\\2156164570.py:18: DtypeWarning: Columns (1,2,4,7,9,10,12,15,21,22,25,26,27,30,32,33,40) have mixed types. Specify dtype option on import or set low_memory=False.\n",
      "  list_csv = pd.read_csv(\n"
     ]
    },
    {
     "name": "stdout",
     "output_type": "stream",
     "text": [
      "['Site Name', 'Transaction Created Date', 'Accountable Completed Date', 'Aging Date', 'Accountable ID', 'Payment Date', 'Transaction Line Item Type', 'Transaction Line Item', 'Site Study Code', 'Site Protocol Version Desc', 'AR/AP Status', 'Holdback Percentage', 'Holdback Amount', 'Invoiceable (Yes / No)', 'Payment ID', 'Provider', 'Vendor', 'Vendor Code', 'Account Code', 'Sub Account Code', 'Department Code', 'Study Account Code', 'Service Line Code', 'Grant Code', 'Site Account Code', 'Network Revenue Expense Code', 'Activity Code', 'Amount', 'Payment Amount', 'Patient Name', 'Patient MRN', 'Routine Care (Yes / No)', 'Transaction Type', 'Ledger Entry Type', 'Subject ID', 'Sponsor Study ID', 'CRO Name', 'Visit Name', 'Participant Protocol Arm', 'Visit Location', 'Event Name', 'Sponsor Name', 'Principal Investigators', 'Lead Coordinators']\n"
     ]
    }
   ],
   "source": [
    "project_id_list = pd.read_csv(\n",
    "    \"J:\\\\ONELINK//Snapshot Datasources//SignalPath ProjectID Lookup.csv\",\n",
    "    low_memory=False,\n",
    "    encoding=\"cp1252\",\n",
    ")\n",
    "print(project_id_list.columns)\n",
    "\n",
    "transactions = pd.merge(\n",
    "    transactions,\n",
    "    project_id_list,\n",
    "    left_on=\"Service Line Code\",\n",
    "    right_on=\"Project ID\",\n",
    "    how=\"left\",\n",
    ")\n",
    "\n",
    "print(transactions.columns)\n",
    "\n",
    "list_csv = pd.read_csv(\n",
    "    r\"J:\\ONELINK\\Snapshot Datasources\\04 2025 April\\_Transaction Data april 2025.csv\"\n",
    ")\n",
    "\n",
    "columns_list = list_csv.columns.tolist()\n",
    "\n",
    "print(columns_list)\n",
    "transactions[\"Transaction Created Date\"] = transactions[\"Accountable Completed Date\"]\n",
    "transactions = transactions.rename(\n",
    "    columns={\n",
    "        \"Transaction Amount\": \"Amount\",\n",
    "        \"Site Study ID\": \"Site Protocol Version Desc\",\n",
    "    }\n",
    ")\n",
    "\n",
    "transactions = transactions.loc[:, columns_list]"
   ]
  },
  {
   "cell_type": "code",
   "execution_count": null,
   "id": "6332cef7",
   "metadata": {},
   "outputs": [],
   "source": [
    "transactions.to_csv(\n",
    "    f\"{folder_path}/_Transaction Data.csv\",\n",
    "    index=False,\n",
    ")"
   ]
  }
 ],
 "metadata": {
  "kernelspec": {
   "display_name": ".venv (3.13.7)",
   "language": "python",
   "name": "python3"
  },
  "language_info": {
   "codemirror_mode": {
    "name": "ipython",
    "version": 3
   },
   "file_extension": ".py",
   "mimetype": "text/x-python",
   "name": "python",
   "nbconvert_exporter": "python",
   "pygments_lexer": "ipython3",
   "version": "3.13.7"
  }
 },
 "nbformat": 4,
 "nbformat_minor": 5
}
